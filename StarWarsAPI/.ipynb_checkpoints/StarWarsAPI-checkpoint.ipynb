{
 "cells": [
  {
   "cell_type": "markdown",
   "metadata": {},
   "source": [
    "<img src=\"https://upload.wikimedia.org/wikipedia/commons/thumb/6/6c/Star_Wars_Logo.svg/2000px-Star_Wars_Logo.svg.png\" width=\"30%\" height=\"30%\" align=\"left\">"
   ]
  },
  {
   "cell_type": "markdown",
   "metadata": {},
   "source": [
    "# SWAPI (Star Wars API)\n",
    "The Star Wars API, or \"swapi\" (Swah-pee) is the world's first quanitified and programmatically-accessible data source for all the data from the Star Wars canon universe!"
   ]
  },
  {
   "cell_type": "code",
   "execution_count": 1,
   "metadata": {
    "collapsed": true
   },
   "outputs": [],
   "source": [
    "import swapi"
   ]
  },
  {
   "cell_type": "markdown",
   "metadata": {},
   "source": [
    "### Sort All Planets in Star Wars (将所有星球按大小排列) :"
   ]
  },
  {
   "cell_type": "code",
   "execution_count": 2,
   "metadata": {
    "collapsed": false
   },
   "outputs": [
    {
     "name": "stdout",
     "output_type": "stream",
     "text": [
      "Polis Massa\n",
      "Cato Neimoidia\n",
      "Stewjon\n",
      "unknown\n",
      "Trandosha\n",
      "Socorro\n",
      "Mygeeto\n",
      "Haruun Kal\n",
      "Yavin IV\n",
      "Tatooine\n",
      "Dathomir\n",
      "Ryloth\n",
      "Corellia\n",
      "Mon Cala\n",
      "Geonosis\n",
      "Bespin\n",
      "Naboo\n",
      "Nal Hutta\n",
      "Tund\n",
      "Coruscant\n",
      "Alderaan\n",
      "Kashyyyk\n",
      "Sullust\n",
      "Utapau\n",
      "Dorin\n",
      "Eriadu\n",
      "Chandrila\n",
      "Muunilinst\n",
      "Kalee\n",
      "Ord Mantell\n",
      "Vulpter\n",
      "Saleucami\n",
      "Glee Anselm\n",
      "Malastare\n",
      "Kamino\n",
      "Mustafar\n",
      "Endor\n",
      "Bestine IV\n",
      "Hoth\n",
      "Rodia\n",
      "Toydaria\n",
      "Dagobah\n",
      "Felucia\n",
      "Dantooine\n",
      "Aleen Minor\n",
      "Troiken\n",
      "Cerea\n",
      "Iridonia\n",
      "Tholoth\n",
      "Iktotch\n",
      "Quermia\n",
      "Champala\n",
      "Mirial\n",
      "Serenno\n",
      "Concord Dawn\n",
      "Zolan\n",
      "Ojom\n",
      "Skako\n",
      "Shili\n",
      "Umbara\n",
      "Jakku\n"
     ]
    }
   ],
   "source": [
    "for planet in swapi.get_all('planets').order_by('diameter'):\n",
    "    print(planet.name)    "
   ]
  },
  {
   "cell_type": "markdown",
   "metadata": {},
   "source": [
    "## Tatooine\n",
    "<img src=\"https://upload.wikimedia.org/wikipedia/en/7/7f/Tatooine.jpg\" width=\"25%\" height=\"25%\" align=\"left\">\n",
    "<img src=\"http://cdn0.dailydot.com/uploaded/images/original/2015/3/24/tatooine.jpg\" width=\"56%\" height=\"56%\">"
   ]
  },
  {
   "cell_type": "markdown",
   "metadata": {},
   "source": [
    "Tatooine was a desert planet located in the Outer Rim Territories. The planet was part of a binary star system. Due to the lack of surface water, many residents of the planet instead drew water from the atmosphere via moisture farms.\n",
    "Tatooine was the homeworld of Anakin Skywalker, the Chosen One, and his son Luke Skywalker. Anakin's former master, Obi-Wan Kenobi, also resided on the planet after the Clone Wars ended, going by the name Ben Kenobi. The Hutt Clan maintained a presence on Tatooine as well, with Jabba the Hutt owning a palace in the desert.\n",
    "_______________"
   ]
  },
  {
   "cell_type": "markdown",
   "metadata": {},
   "source": [
    "## Naboo\n",
    "<img src=\"http://vignette4.wikia.nocookie.net/es.starwars/images/5/50/Naboo.jpg/revision/latest?cb=20060318190228\" width=\"33%\" height=\"33%\" align=\"left\">\n",
    "<img src=\"http://vignette2.wikia.nocookie.net/starwars/images/0/01/Theed-MoaTM.png/revision/latest?cb=20121002233339\" width=\"55%\" height=\"55%\">"
   ]
  },
  {
   "cell_type": "markdown",
   "metadata": {},
   "source": [
    "An idyllic world close to the border of the Outer Rim Territories, Naboo is inhabited by peaceful humans known as the Naboo, and an indigenous species of intelligent amphibians called the Gungans. Naboo's surface consists of swampy lakes, rolling plains and green hills. Its population centers are beautiful -- Naboo's river cities are filled with classical architecture and greenery, while the underwater Gungan settlements are a beautiful display of exotic hydrostatic bubble technology.\n",
    "_______________"
   ]
  },
  {
   "cell_type": "markdown",
   "metadata": {},
   "source": [
    "## Kamino\n",
    "<img src=\"http://vignette3.wikia.nocookie.net/starwars/images/5/57/Kamino.jpg/revision/latest?cb=20071007054356\" width=\"20%\" height=\"20%\" align=\"left\">\n",
    "<img src=\"http://img.lum.dolimg.com/v1/images/databank_kamino_01_169_f9027822.jpeg?region=0%2C0%2C1560%2C878&width=768\" width=\"35%\" height=\"35%\">"
   ]
  },
  {
   "cell_type": "markdown",
   "metadata": {},
   "source": [
    "Kamino (pronounced /kə'minoʊ/) is an ocean planet. It was here that the Army of the Republic was generated. It is inhabited by a race of tall, elegant, long-necked creatures, called Kaminoans, who keep to themselves and are known for their cloning technology. 10 years before the Clone Wars, Hego Damask, using Jedi Master Sifo-Dyas secretly funded the production of an army for the Republic. In Star Wars: Episode II, Obi-Wan Kenobi was directed here to follow a lead on the whereabouts of Senator Amidala's would-be assassin through a single poison dart. During Obi-Wan's stay on Kamino at Tipoca City, he discovered the source of the Clone Army's genetic code, one Jango Fett and his \"son\" Boba Fett.\n",
    "___________"
   ]
  },
  {
   "cell_type": "markdown",
   "metadata": {},
   "source": [
    "## Coruscant\n",
    "<img src=\"http://vignette3.wikia.nocookie.net/starwars/images/1/17/Coruscant-AoTCW.jpg/revision/latest?cb=20100115192302\" width=\"22%\" height=\"22%\" align=\"left\">\n",
    "<img src=\"http://vignette2.wikia.nocookie.net/starwars/images/0/06/Coruscant_apartment_view.png/revision/latest?cb=20130118200812\" width=\"50%\" height=\"50%\">"
   ]
  },
  {
   "cell_type": "markdown",
   "metadata": {},
   "source": [
    "Coruscant (pronounced /'kɔɹəsɑnt/), also known as Imperial Center during the reign of the Galactic Empire, was a planet that served as the galactic capital and seat of government of the Galactic Republic and the Galactic Empire, and was the homeworld of the human species. Coruscant was notable for its vast urban sprawl covering the entire planet called Galactic City that was constantly awake as airspeeders and starships moved in the flow of Coruscant's skylane traffic. \n",
    "_______________________"
   ]
  },
  {
   "cell_type": "markdown",
   "metadata": {},
   "source": [
    "## Geonosis\n",
    "<img src=\"http://vignette2.wikia.nocookie.net/starwars/images/6/6d/Geonosis_AotC.png/revision/latest?cb=20121231120327\" width=\"40%\" height=\"40%\" align=\"left\">\n",
    "<img src=\"http://cdn.obsidianportal.com/assets/132814/Paisaje_Geonosis.jpg\" width=\"50%\" height=\"50%\">"
   ]
  },
  {
   "cell_type": "markdown",
   "metadata": {},
   "source": [
    "A harsh rocky world less than a parsec away from Tatooine, Geonosis is a ringed planet beyond the borders of the Galactic Republic. Its uninviting surface is made up of harsh, rocky desert, and the creatures that evolved on Geonosis are well equipped to survive in the brutal environment. The most advanced lifeform are the Geonosians, sentient insectoids that inhabit towering spire-hives. The Geonosians maintain large factories for the production of droids and weapons for the Separatist cause in the Clone Wars. After the Clone Wars, the Empire chose Geonosis as the construction site of the first Death Star, restricting travel to the system and sterilizing the planet’s surface.\n",
    "_________________________"
   ]
  },
  {
   "cell_type": "markdown",
   "metadata": {},
   "source": [
    "## Utapau\n",
    "<img src=\"http://vignette4.wikia.nocookie.net/starwars/images/c/ce/UtapauRotS.png/revision/latest?cb=20160118063015\" height=\"22%\" width=\"22%\" align=\"left\">\n",
    "<img src=\"http://vignette2.wikia.nocookie.net/starwars/images/f/f6/Tenth_Level.png/revision/latest?cb=20130215052019\" height=\"56%\" width=\"56%\" >"
   ]
  },
  {
   "cell_type": "markdown",
   "metadata": {},
   "source": [
    "Ringed by numerous moons, the remote sanctuary of Utapau is a planet pitted with enormous sinkholes. Its windswept surface is dry and desert-like, but deep in the porous crust, at the bottom of the sinkholes are pools of life-giving water. Many of the sinkholes on one of the planet's small continents are lined with intricate cities that stretch deep into caves and crevices beneath the planet's surface, as well as mining operations that seek to uncover valuable minerals from the planet's depths."
   ]
  },
  {
   "cell_type": "markdown",
   "metadata": {},
   "source": [
    "## Mustafar\n",
    "<img src=\"http://vignette2.wikia.nocookie.net/starwars/images/a/af/Mustafar_DB.png/revision/latest?cb=20160118061913\" height=\"23%\" width=\"23%\" align=\"left\">\n",
    "<img src=\"http://img.lum.dolimg.com/v1/images/databank_mustafar_01_169_5b470758.jpeg?region=0%2C0%2C1560%2C878&width=768\" height=\"40%\" width=\"40%\">\n"
   ]
  },
  {
   "cell_type": "markdown",
   "metadata": {},
   "source": [
    "A tiny, fiery planet in the Outer Rim, Mustafar maintains an erratic orbit between two gas giants. Mustafar is rich in unique and valuable minerals which have long been mined by the Tech Union. Its lava pits and rivers make this planet a dangerous habitat; its natives have burly, tough bodies that can withstand extreme heat. The planet became the backdrop for the fateful duel between Obi-Wan Kenobi and Anakin Skywalker. After the rise of the Empire, captured Jedi were brought to the volcanic world for interrogation and execution.\n",
    "_____________________"
   ]
  },
  {
   "cell_type": "markdown",
   "metadata": {},
   "source": [
    "## Jakku\n",
    "<img src=\"http://www.starwarsnewsnet.com/wp-content/uploads/2015/06/Jakku.jpg\" height=\"22%\" width=\"22%\" align=\"left\">\n",
    "<img src=\"http://vignette1.wikia.nocookie.net/banthapedia/images/e/ef/Jakku.jpg/revision/latest?cb=20160105162421\" height=\"40%\" width=\"40%\">"
   ]
  },
  {
   "cell_type": "markdown",
   "metadata": {},
   "source": [
    "A harsh desert world, Jakku is a lawless place that’s home to thieves, outlaws and refugees. During the final years of the Galactic Civil War, Jakku was the site of a secret Imperial research base and served as a jumping-off point for warships heading into the Unknown Regions. The Empire made a last stand above the frontier planet, leading to a pitched battle between rebel and Imperial fleets. Jakku’s sandy wastes are littered with old wrecks, picked over by desperate scavengers searching for parts that can be salvaged and sold.\n",
    "___________________"
   ]
  },
  {
   "cell_type": "markdown",
   "metadata": {},
   "source": [
    "### Query Persons Who Drove More Than 1 Starships (查看哪些人开过1艘以上的飞船):"
   ]
  },
  {
   "cell_type": "code",
   "execution_count": 3,
   "metadata": {
    "collapsed": false
   },
   "outputs": [
    {
     "name": "stdout",
     "output_type": "stream",
     "text": [
      "Luke Skywalker\n",
      "Obi-Wan Kenobi\n",
      "Anakin Skywalker\n",
      "Chewbacca\n",
      "Han Solo\n",
      "Padmé Amidala\n"
     ]
    }
   ],
   "source": [
    "for people in swapi.get_all(\"people\").iter():\n",
    "    if len(people.starships) > 1:\n",
    "        print(people.name)"
   ]
  },
  {
   "cell_type": "markdown",
   "metadata": {},
   "source": [
    "### Index Whether Jar Jar Binks Appeared in Episode 1 (检索Jar Jar Binks是否在电影中出现):"
   ]
  },
  {
   "cell_type": "code",
   "execution_count": 4,
   "metadata": {
    "collapsed": false
   },
   "outputs": [
    {
     "name": "stdout",
     "output_type": "stream",
     "text": [
      "Jar Jar Binks, strange character!\n"
     ]
    }
   ],
   "source": [
    "pm = swapi.get_film(4) #Here Episode 1 is the 4th movie in Star Wars\n",
    "jj = swapi.get_person(36)\n",
    "for c in pm.get_characters().iter():\n",
    "    if c.name == jj.name:\n",
    "        print('Jar Jar Binks, strange character!')"
   ]
  },
  {
   "cell_type": "markdown",
   "metadata": {},
   "source": [
    "<img src=\"http://img.lum.dolimg.com/v1/images/databank_jarjarbinks_01_169_c70767ab.jpeg\" width=\"50%\" height=\"50%\" align=\"left\">"
   ]
  },
  {
   "cell_type": "code",
   "execution_count": 5,
   "metadata": {
    "collapsed": false
   },
   "outputs": [
    {
     "name": "stdout",
     "output_type": "stream",
     "text": [
      "<Film - A New Hope>\n",
      "<Film - Attack of the Clones>\n",
      "<Film - The Phantom Menace>\n",
      "<Film - Revenge of the Sith>\n",
      "<Film - Return of the Jedi>\n",
      "<Film - The Empire Strikes Back>\n",
      "<Film - The Force Awakens>\n"
     ]
    }
   ],
   "source": [
    "films = swapi.get_all('films')\n",
    "for film in films.iter():\n",
    "    print(film)"
   ]
  },
  {
   "cell_type": "markdown",
   "metadata": {},
   "source": [
    "<img src=\"http://img.lum.dolimg.com/v1/images/Star-Wars-New-Hope-IV-Poster_c217085b.jpeg?region=49%2C43%2C580%2C914&width=480\" width=\"20%\" height=\"20%\" align=\"left\">\n",
    "<img src=\"http://img.lum.dolimg.com/v1/images/Star-Wars-Empire-Strikes-Back-V-Poster_878f7fce.jpeg?region=25%2C22%2C612%2C953&width=480\" width=\"20%\" height=\"20%\" align=\"left\">\n",
    "<img src=\"http://img.lum.dolimg.com/v1/images/Star-Wars-Return-Jedi-VI-Poster_a10501d2.jpeg?region=12%2C9%2C618%2C982&width=480\" width=\"20%\" height=\"20%\" align=\"left\">"
   ]
  },
  {
   "cell_type": "markdown",
   "metadata": {},
   "source": [
    "<img src=\"http://img.lum.dolimg.com/v1/images/Star-Wars-Phantom-Menace-I-Poster_3c1ff9eb.jpeg?region=15%2C9%2C651%2C979&width=480\" width=\"20%\" height=\"20%\" align=\"left\">\n",
    "<img src=\"http://img.lum.dolimg.com/v1/images/Star-Wars-Attack-Clones-II-Poster_53baa2e7.jpeg?region=18%2C0%2C660%2C1000&width=480\" width=\"20%\" height=\"20%\" align=\"left\">\n",
    "<img src=\"http://img.lum.dolimg.com/v1/images/Star-Wars-Revenge-Sith-III-Poster_646108ce.jpeg?region=0%2C0%2C736%2C1090&width=480\" width=\"20%\" height=\"20%\" align=\"left\">"
   ]
  },
  {
   "cell_type": "markdown",
   "metadata": {},
   "source": [
    "<img src=\"http://a.dilcdn.com/bl/wp-content/uploads/sites/6/2015/10/tfa_poster_wide_header-1536x864-959818851016.jpg\" width=\"50%\" height=\"50%\" align=\"left\">"
   ]
  },
  {
   "cell_type": "code",
   "execution_count": 6,
   "metadata": {
    "collapsed": false
   },
   "outputs": [
    {
     "name": "stdout",
     "output_type": "stream",
     "text": [
      "<Person - Luke Skywalker>\n",
      "<Person - C-3PO>\n",
      "<Person - R2-D2>\n",
      "<Person - Darth Vader>\n",
      "<Person - Leia Organa>\n",
      "<Person - Owen Lars>\n",
      "<Person - Beru Whitesun lars>\n",
      "<Person - R5-D4>\n",
      "<Person - Biggs Darklighter>\n",
      "<Person - Obi-Wan Kenobi>\n",
      "<Person - Anakin Skywalker>\n",
      "<Person - Wilhuff Tarkin>\n",
      "<Person - Chewbacca>\n",
      "<Person - Han Solo>\n",
      "<Person - Greedo>\n",
      "<Person - Jabba Desilijic Tiure>\n",
      "<Person - Wedge Antilles>\n",
      "<Person - Jek Tono Porkins>\n",
      "<Person - Yoda>\n",
      "<Person - Palpatine>\n",
      "<Person - Boba Fett>\n",
      "<Person - IG-88>\n",
      "<Person - Bossk>\n",
      "<Person - Lando Calrissian>\n",
      "<Person - Lobot>\n",
      "<Person - Ackbar>\n",
      "<Person - Mon Mothma>\n",
      "<Person - Arvel Crynyd>\n",
      "<Person - Wicket Systri Warrick>\n",
      "<Person - Nien Nunb>\n",
      "<Person - Qui-Gon Jinn>\n",
      "<Person - Nute Gunray>\n",
      "<Person - Finis Valorum>\n",
      "<Person - Padmé Amidala>\n",
      "<Person - Jar Jar Binks>\n",
      "<Person - Roos Tarpals>\n",
      "<Person - Rugor Nass>\n",
      "<Person - Ric Olié>\n",
      "<Person - Watto>\n",
      "<Person - Sebulba>\n",
      "<Person - Quarsh Panaka>\n",
      "<Person - Shmi Skywalker>\n",
      "<Person - Darth Maul>\n",
      "<Person - Bib Fortuna>\n",
      "<Person - Ayla Secura>\n",
      "<Person - Ratts Tyerel>\n",
      "<Person - Dud Bolt>\n",
      "<Person - Gasgano>\n",
      "<Person - Ben Quadinaros>\n",
      "<Person - Mace Windu>\n",
      "<Person - Ki-Adi-Mundi>\n",
      "<Person - Kit Fisto>\n",
      "<Person - Eeth Koth>\n",
      "<Person - Adi Gallia>\n",
      "<Person - Saesee Tiin>\n",
      "<Person - Yarael Poof>\n",
      "<Person - Plo Koon>\n",
      "<Person - Mas Amedda>\n",
      "<Person - Gregar Typho>\n",
      "<Person - Cordé>\n",
      "<Person - Cliegg Lars>\n",
      "<Person - Poggle the Lesser>\n",
      "<Person - Luminara Unduli>\n",
      "<Person - Barriss Offee>\n",
      "<Person - Dormé>\n",
      "<Person - Dooku>\n",
      "<Person - Bail Prestor Organa>\n",
      "<Person - Jango Fett>\n",
      "<Person - Zam Wesell>\n",
      "<Person - Dexter Jettster>\n",
      "<Person - Lama Su>\n",
      "<Person - Taun We>\n",
      "<Person - Jocasta Nu>\n",
      "<Person - R4-P17>\n",
      "<Person - Wat Tambor>\n",
      "<Person - San Hill>\n",
      "<Person - Shaak Ti>\n",
      "<Person - Grievous>\n",
      "<Person - Tarfful>\n",
      "<Person - Raymus Antilles>\n",
      "<Person - Sly Moore>\n",
      "<Person - Tion Medon>\n",
      "<Person - Finn>\n",
      "<Person - Rey>\n",
      "<Person - Poe Dameron>\n",
      "<Person - BB8>\n",
      "<Person - Captain Phasma>\n"
     ]
    }
   ],
   "source": [
    "persons = swapi.get_all('people')\n",
    "for person in persons.iter():\n",
    "    print(person)"
   ]
  },
  {
   "cell_type": "code",
   "execution_count": 7,
   "metadata": {
    "collapsed": false
   },
   "outputs": [
    {
     "name": "stdout",
     "output_type": "stream",
     "text": [
      "<Planet - Polis Massa>\n",
      "<Planet - Cato Neimoidia>\n",
      "<Planet - Stewjon>\n",
      "<Planet - unknown>\n",
      "<Planet - Trandosha>\n",
      "<Planet - Socorro>\n",
      "<Planet - Mygeeto>\n",
      "<Planet - Haruun Kal>\n",
      "<Planet - Yavin IV>\n",
      "<Planet - Tatooine>\n",
      "<Planet - Dathomir>\n",
      "<Planet - Ryloth>\n",
      "<Planet - Corellia>\n",
      "<Planet - Mon Cala>\n",
      "<Planet - Geonosis>\n",
      "<Planet - Bespin>\n",
      "<Planet - Naboo>\n",
      "<Planet - Nal Hutta>\n",
      "<Planet - Tund>\n",
      "<Planet - Coruscant>\n",
      "<Planet - Alderaan>\n",
      "<Planet - Kashyyyk>\n",
      "<Planet - Sullust>\n",
      "<Planet - Utapau>\n",
      "<Planet - Dorin>\n",
      "<Planet - Eriadu>\n",
      "<Planet - Chandrila>\n",
      "<Planet - Muunilinst>\n",
      "<Planet - Kalee>\n",
      "<Planet - Ord Mantell>\n",
      "<Planet - Vulpter>\n",
      "<Planet - Saleucami>\n",
      "<Planet - Glee Anselm>\n",
      "<Planet - Malastare>\n",
      "<Planet - Kamino>\n",
      "<Planet - Mustafar>\n",
      "<Planet - Endor>\n",
      "<Planet - Bestine IV>\n",
      "<Planet - Hoth>\n",
      "<Planet - Rodia>\n",
      "<Planet - Toydaria>\n",
      "<Planet - Dagobah>\n",
      "<Planet - Felucia>\n",
      "<Planet - Dantooine>\n",
      "<Planet - Aleen Minor>\n",
      "<Planet - Troiken>\n",
      "<Planet - Cerea>\n",
      "<Planet - Iridonia>\n",
      "<Planet - Tholoth>\n",
      "<Planet - Iktotch>\n",
      "<Planet - Quermia>\n",
      "<Planet - Champala>\n",
      "<Planet - Mirial>\n",
      "<Planet - Serenno>\n",
      "<Planet - Concord Dawn>\n",
      "<Planet - Zolan>\n",
      "<Planet - Ojom>\n",
      "<Planet - Skako>\n",
      "<Planet - Shili>\n",
      "<Planet - Umbara>\n",
      "<Planet - Jakku>\n"
     ]
    }
   ],
   "source": [
    "planets = swapi.get_all('planets')\n",
    "for planet in planets.order_by('diameter'):\n",
    "    print(planet)"
   ]
  },
  {
   "cell_type": "code",
   "execution_count": 8,
   "metadata": {
    "collapsed": false
   },
   "outputs": [
    {
     "name": "stdout",
     "output_type": "stream",
     "text": [
      "<Person - Luke Skywalker>\n",
      "<Planet - Tatooine>\n",
      "<Film - The Phantom Menace>\n"
     ]
    }
   ],
   "source": [
    "people = swapi.get_person(1)\n",
    "star = swapi.get_planet(1)\n",
    "film = swapi.get_film(4)\n",
    "\n",
    "print(people)\n",
    "print(star)\n",
    "print(film)"
   ]
  },
  {
   "cell_type": "markdown",
   "metadata": {},
   "source": [
    "<img src=\"http://vignette2.wikia.nocookie.net/mec/images/9/9c/0000000000.jpg/revision/latest?cb=20120401033106\" width=\"23%\" height=\"23%\" align=\"left\">\n",
    "<img src=\"http://vignette4.wikia.nocookie.net/starwars/images/7/7b/Clone_trooper_armor.png/revision/latest?cb=20141223035439\" width=\"30%\" height=\"30%\" align=\"left\">\n",
    "<img src=\"http://vignette3.wikia.nocookie.net/theclonewiki/images/b/b1/Codyrun2.png/revision/latest?cb=20130308221228\" width=\"25%\" height=\"25%\" align=\"left\">"
   ]
  }
 ],
 "metadata": {
  "kernelspec": {
   "display_name": "Python 3",
   "language": "python",
   "name": "python3"
  },
  "language_info": {
   "codemirror_mode": {
    "name": "ipython",
    "version": 3
   },
   "file_extension": ".py",
   "mimetype": "text/x-python",
   "name": "python",
   "nbconvert_exporter": "python",
   "pygments_lexer": "ipython3",
   "version": "3.5.1"
  }
 },
 "nbformat": 4,
 "nbformat_minor": 0
}
