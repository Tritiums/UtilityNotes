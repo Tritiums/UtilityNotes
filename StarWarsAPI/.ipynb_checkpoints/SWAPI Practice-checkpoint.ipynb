{
 "cells": [
  {
   "cell_type": "code",
   "execution_count": 1,
   "metadata": {
    "collapsed": true
   },
   "outputs": [],
   "source": [
    "import swapi"
   ]
  },
  {
   "cell_type": "code",
   "execution_count": 11,
   "metadata": {
    "collapsed": false
   },
   "outputs": [],
   "source": [
    "people = swapi.get_person(1)\n",
    "star = swapi.get_planet(1)"
   ]
  },
  {
   "cell_type": "code",
   "execution_count": 14,
   "metadata": {
    "collapsed": false,
    "scrolled": true
   },
   "outputs": [
    {
     "name": "stdout",
     "output_type": "stream",
     "text": [
      "<Person - Luke Skywalker>\n",
      "<Planet - Tatooine>\n"
     ]
    }
   ],
   "source": [
    "print(people)\n",
    "print(star)"
   ]
  },
  {
   "cell_type": "code",
   "execution_count": 26,
   "metadata": {
    "collapsed": true
   },
   "outputs": [],
   "source": [
    "persons = swapi.get_all('people')"
   ]
  },
  {
   "cell_type": "code",
   "execution_count": 36,
   "metadata": {
    "collapsed": false
   },
   "outputs": [],
   "source": [
    "films = swapi.get_all('films')"
   ]
  },
  {
   "cell_type": "code",
   "execution_count": 38,
   "metadata": {
    "collapsed": false
   },
   "outputs": [
    {
     "name": "stdout",
     "output_type": "stream",
     "text": [
      "<Film - A New Hope>\n",
      "<Film - Attack of the Clones>\n",
      "<Film - The Phantom Menace>\n",
      "<Film - Revenge of the Sith>\n",
      "<Film - Return of the Jedi>\n",
      "<Film - The Empire Strikes Back>\n",
      "<Film - The Force Awakens>\n"
     ]
    }
   ],
   "source": [
    "for film in films.iter():\n",
    "    print(film)"
   ]
  },
  {
   "cell_type": "code",
   "execution_count": 29,
   "metadata": {
    "collapsed": false
   },
   "outputs": [
    {
     "name": "stdout",
     "output_type": "stream",
     "text": [
      "<Person - Luke Skywalker>\n",
      "<Person - C-3PO>\n",
      "<Person - R2-D2>\n",
      "<Person - Darth Vader>\n",
      "<Person - Leia Organa>\n",
      "<Person - Owen Lars>\n",
      "<Person - Beru Whitesun lars>\n",
      "<Person - R5-D4>\n",
      "<Person - Biggs Darklighter>\n",
      "<Person - Obi-Wan Kenobi>\n",
      "<Person - Anakin Skywalker>\n",
      "<Person - Wilhuff Tarkin>\n",
      "<Person - Chewbacca>\n",
      "<Person - Han Solo>\n",
      "<Person - Greedo>\n",
      "<Person - Jabba Desilijic Tiure>\n",
      "<Person - Wedge Antilles>\n",
      "<Person - Jek Tono Porkins>\n",
      "<Person - Yoda>\n",
      "<Person - Palpatine>\n",
      "<Person - Boba Fett>\n",
      "<Person - IG-88>\n",
      "<Person - Bossk>\n",
      "<Person - Lando Calrissian>\n",
      "<Person - Lobot>\n",
      "<Person - Ackbar>\n",
      "<Person - Mon Mothma>\n",
      "<Person - Arvel Crynyd>\n",
      "<Person - Wicket Systri Warrick>\n",
      "<Person - Nien Nunb>\n",
      "<Person - Qui-Gon Jinn>\n",
      "<Person - Nute Gunray>\n",
      "<Person - Finis Valorum>\n",
      "<Person - Padmé Amidala>\n",
      "<Person - Jar Jar Binks>\n",
      "<Person - Roos Tarpals>\n",
      "<Person - Rugor Nass>\n",
      "<Person - Ric Olié>\n",
      "<Person - Watto>\n",
      "<Person - Sebulba>\n",
      "<Person - Quarsh Panaka>\n",
      "<Person - Shmi Skywalker>\n",
      "<Person - Darth Maul>\n",
      "<Person - Bib Fortuna>\n",
      "<Person - Ayla Secura>\n",
      "<Person - Ratts Tyerel>\n",
      "<Person - Dud Bolt>\n",
      "<Person - Gasgano>\n",
      "<Person - Ben Quadinaros>\n",
      "<Person - Mace Windu>\n",
      "<Person - Ki-Adi-Mundi>\n",
      "<Person - Kit Fisto>\n",
      "<Person - Eeth Koth>\n",
      "<Person - Adi Gallia>\n",
      "<Person - Saesee Tiin>\n",
      "<Person - Yarael Poof>\n",
      "<Person - Plo Koon>\n",
      "<Person - Mas Amedda>\n",
      "<Person - Gregar Typho>\n",
      "<Person - Cordé>\n",
      "<Person - Cliegg Lars>\n",
      "<Person - Poggle the Lesser>\n",
      "<Person - Luminara Unduli>\n",
      "<Person - Barriss Offee>\n",
      "<Person - Dormé>\n",
      "<Person - Dooku>\n",
      "<Person - Bail Prestor Organa>\n",
      "<Person - Jango Fett>\n",
      "<Person - Zam Wesell>\n",
      "<Person - Dexter Jettster>\n",
      "<Person - Lama Su>\n",
      "<Person - Taun We>\n",
      "<Person - Jocasta Nu>\n",
      "<Person - R4-P17>\n",
      "<Person - Wat Tambor>\n",
      "<Person - San Hill>\n",
      "<Person - Shaak Ti>\n",
      "<Person - Grievous>\n",
      "<Person - Tarfful>\n",
      "<Person - Raymus Antilles>\n",
      "<Person - Sly Moore>\n",
      "<Person - Tion Medon>\n",
      "<Person - Finn>\n",
      "<Person - Rey>\n",
      "<Person - Poe Dameron>\n",
      "<Person - BB8>\n",
      "<Person - Captain Phasma>\n"
     ]
    }
   ],
   "source": [
    "for person in persons.iter():\n",
    "    print(person)"
   ]
  },
  {
   "cell_type": "code",
   "execution_count": 17,
   "metadata": {
    "collapsed": false
   },
   "outputs": [
    {
     "data": {
      "text/plain": [
       "<PlanetQuerySet - 61>"
      ]
     },
     "execution_count": 17,
     "metadata": {},
     "output_type": "execute_result"
    }
   ],
   "source": [
    "swapi.get_all('planets')"
   ]
  },
  {
   "cell_type": "code",
   "execution_count": 22,
   "metadata": {
    "collapsed": false,
    "scrolled": true
   },
   "outputs": [
    {
     "name": "stdout",
     "output_type": "stream",
     "text": [
      "<PlanetQuerySet - 61>\n"
     ]
    }
   ],
   "source": [
    "print(planets)"
   ]
  },
  {
   "cell_type": "code",
   "execution_count": 25,
   "metadata": {
    "collapsed": false
   },
   "outputs": [
    {
     "name": "stdout",
     "output_type": "stream",
     "text": [
      "<Planet - Polis Massa>\n",
      "<Planet - Cato Neimoidia>\n",
      "<Planet - Stewjon>\n",
      "<Planet - unknown>\n",
      "<Planet - Trandosha>\n",
      "<Planet - Socorro>\n",
      "<Planet - Mygeeto>\n",
      "<Planet - Haruun Kal>\n",
      "<Planet - Yavin IV>\n",
      "<Planet - Tatooine>\n",
      "<Planet - Dathomir>\n",
      "<Planet - Ryloth>\n",
      "<Planet - Corellia>\n",
      "<Planet - Mon Cala>\n",
      "<Planet - Geonosis>\n",
      "<Planet - Bespin>\n",
      "<Planet - Naboo>\n",
      "<Planet - Nal Hutta>\n",
      "<Planet - Tund>\n",
      "<Planet - Coruscant>\n",
      "<Planet - Alderaan>\n",
      "<Planet - Kashyyyk>\n",
      "<Planet - Sullust>\n",
      "<Planet - Utapau>\n",
      "<Planet - Dorin>\n",
      "<Planet - Eriadu>\n",
      "<Planet - Chandrila>\n",
      "<Planet - Muunilinst>\n",
      "<Planet - Kalee>\n",
      "<Planet - Ord Mantell>\n",
      "<Planet - Vulpter>\n",
      "<Planet - Saleucami>\n",
      "<Planet - Glee Anselm>\n",
      "<Planet - Malastare>\n",
      "<Planet - Kamino>\n",
      "<Planet - Mustafar>\n",
      "<Planet - Endor>\n",
      "<Planet - Bestine IV>\n",
      "<Planet - Hoth>\n",
      "<Planet - Rodia>\n",
      "<Planet - Toydaria>\n",
      "<Planet - Dagobah>\n",
      "<Planet - Felucia>\n",
      "<Planet - Dantooine>\n",
      "<Planet - Aleen Minor>\n",
      "<Planet - Troiken>\n",
      "<Planet - Cerea>\n",
      "<Planet - Iridonia>\n",
      "<Planet - Tholoth>\n",
      "<Planet - Iktotch>\n",
      "<Planet - Quermia>\n",
      "<Planet - Champala>\n",
      "<Planet - Mirial>\n",
      "<Planet - Serenno>\n",
      "<Planet - Concord Dawn>\n",
      "<Planet - Zolan>\n",
      "<Planet - Ojom>\n",
      "<Planet - Skako>\n",
      "<Planet - Shili>\n",
      "<Planet - Umbara>\n",
      "<Planet - Jakku>\n"
     ]
    }
   ],
   "source": [
    "for planet in planets.order_by('diameter'):\n",
    "    print(planet)"
   ]
  },
  {
   "cell_type": "code",
   "execution_count": 21,
   "metadata": {
    "collapsed": false
   },
   "outputs": [
    {
     "data": {
      "text/plain": [
       "<generator object BaseQuerySet.iter at 0x0000000004B48C50>"
      ]
     },
     "execution_count": 21,
     "metadata": {},
     "output_type": "execute_result"
    }
   ],
   "source": [
    "planets.iter()"
   ]
  },
  {
   "cell_type": "code",
   "execution_count": 15,
   "metadata": {
    "collapsed": false
   },
   "outputs": [
    {
     "data": {
      "text/plain": [
       "['FILMS',\n",
       " 'PEOPLE',\n",
       " 'PLANETS',\n",
       " 'SPECIES',\n",
       " 'STARSHIPS',\n",
       " 'VEHICLES',\n",
       " '__author__',\n",
       " '__builtins__',\n",
       " '__cached__',\n",
       " '__doc__',\n",
       " '__email__',\n",
       " '__file__',\n",
       " '__loader__',\n",
       " '__name__',\n",
       " '__package__',\n",
       " '__path__',\n",
       " '__spec__',\n",
       " '__version__',\n",
       " 'exceptions',\n",
       " 'get_all',\n",
       " 'get_film',\n",
       " 'get_person',\n",
       " 'get_planet',\n",
       " 'get_species',\n",
       " 'get_starship',\n",
       " 'get_vehicle',\n",
       " 'models',\n",
       " 'settings',\n",
       " 'swapi',\n",
       " 'utils']"
      ]
     },
     "execution_count": 15,
     "metadata": {},
     "output_type": "execute_result"
    }
   ],
   "source": [
    "dir(swapi)"
   ]
  },
  {
   "cell_type": "code",
   "execution_count": null,
   "metadata": {
    "collapsed": true
   },
   "outputs": [],
   "source": []
  }
 ],
 "metadata": {
  "kernelspec": {
   "display_name": "Python 3",
   "language": "python",
   "name": "python3"
  },
  "language_info": {
   "codemirror_mode": {
    "name": "ipython",
    "version": 3
   },
   "file_extension": ".py",
   "mimetype": "text/x-python",
   "name": "python",
   "nbconvert_exporter": "python",
   "pygments_lexer": "ipython3",
   "version": "3.5.1"
  }
 },
 "nbformat": 4,
 "nbformat_minor": 0
}
