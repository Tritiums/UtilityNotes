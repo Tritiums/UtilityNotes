{
 "cells": [
  {
   "cell_type": "code",
   "execution_count": 2,
   "metadata": {
    "collapsed": true
   },
   "outputs": [],
   "source": [
    "import swapi"
   ]
  },
  {
   "cell_type": "code",
   "execution_count": 3,
   "metadata": {
    "collapsed": false
   },
   "outputs": [
    {
     "name": "stdout",
     "output_type": "stream",
     "text": [
      "<Person - Luke Skywalker>\n",
      "<Planet - Tatooine>\n",
      "<Film - The Phantom Menace>\n"
     ]
    }
   ],
   "source": [
    "people = swapi.get_person(1)\n",
    "star = swapi.get_planet(1)\n",
    "film = swapi.get_film(4)\n",
    "\n",
    "print(people)\n",
    "print(star)\n",
    "print(film)"
   ]
  },
  {
   "cell_type": "code",
   "execution_count": 4,
   "metadata": {
    "collapsed": true
   },
   "outputs": [],
   "source": [
    "persons = swapi.get_all('people')"
   ]
  },
  {
   "cell_type": "code",
   "execution_count": 5,
   "metadata": {
    "collapsed": false
   },
   "outputs": [],
   "source": [
    "films = swapi.get_all('films')"
   ]
  },
  {
   "cell_type": "code",
   "execution_count": 6,
   "metadata": {
    "collapsed": false
   },
   "outputs": [
    {
     "name": "stdout",
     "output_type": "stream",
     "text": [
      "<Film - A New Hope>\n",
      "<Film - Attack of the Clones>\n",
      "<Film - The Phantom Menace>\n",
      "<Film - Revenge of the Sith>\n",
      "<Film - Return of the Jedi>\n",
      "<Film - The Empire Strikes Back>\n",
      "<Film - The Force Awakens>\n"
     ]
    }
   ],
   "source": [
    "for film in films.iter():\n",
    "    print(film)"
   ]
  },
  {
   "cell_type": "code",
   "execution_count": 7,
   "metadata": {
    "collapsed": false,
    "scrolled": true
   },
   "outputs": [
    {
     "name": "stdout",
     "output_type": "stream",
     "text": [
      "<Person - Luke Skywalker>\n",
      "<Person - C-3PO>\n",
      "<Person - R2-D2>\n",
      "<Person - Darth Vader>\n",
      "<Person - Leia Organa>\n",
      "<Person - Owen Lars>\n",
      "<Person - Beru Whitesun lars>\n",
      "<Person - R5-D4>\n",
      "<Person - Biggs Darklighter>\n",
      "<Person - Obi-Wan Kenobi>\n",
      "<Person - Anakin Skywalker>\n",
      "<Person - Wilhuff Tarkin>\n",
      "<Person - Chewbacca>\n",
      "<Person - Han Solo>\n",
      "<Person - Greedo>\n",
      "<Person - Jabba Desilijic Tiure>\n",
      "<Person - Wedge Antilles>\n",
      "<Person - Jek Tono Porkins>\n",
      "<Person - Yoda>\n",
      "<Person - Palpatine>\n",
      "<Person - Boba Fett>\n",
      "<Person - IG-88>\n",
      "<Person - Bossk>\n",
      "<Person - Lando Calrissian>\n",
      "<Person - Lobot>\n",
      "<Person - Ackbar>\n",
      "<Person - Mon Mothma>\n",
      "<Person - Arvel Crynyd>\n",
      "<Person - Wicket Systri Warrick>\n",
      "<Person - Nien Nunb>\n",
      "<Person - Qui-Gon Jinn>\n",
      "<Person - Nute Gunray>\n",
      "<Person - Finis Valorum>\n",
      "<Person - Padmé Amidala>\n",
      "<Person - Jar Jar Binks>\n",
      "<Person - Roos Tarpals>\n",
      "<Person - Rugor Nass>\n",
      "<Person - Ric Olié>\n",
      "<Person - Watto>\n",
      "<Person - Sebulba>\n",
      "<Person - Quarsh Panaka>\n",
      "<Person - Shmi Skywalker>\n",
      "<Person - Darth Maul>\n",
      "<Person - Bib Fortuna>\n",
      "<Person - Ayla Secura>\n",
      "<Person - Ratts Tyerel>\n",
      "<Person - Dud Bolt>\n",
      "<Person - Gasgano>\n",
      "<Person - Ben Quadinaros>\n",
      "<Person - Mace Windu>\n",
      "<Person - Ki-Adi-Mundi>\n",
      "<Person - Kit Fisto>\n",
      "<Person - Eeth Koth>\n",
      "<Person - Adi Gallia>\n",
      "<Person - Saesee Tiin>\n",
      "<Person - Yarael Poof>\n",
      "<Person - Plo Koon>\n",
      "<Person - Mas Amedda>\n",
      "<Person - Gregar Typho>\n",
      "<Person - Cordé>\n",
      "<Person - Cliegg Lars>\n",
      "<Person - Poggle the Lesser>\n",
      "<Person - Luminara Unduli>\n",
      "<Person - Barriss Offee>\n",
      "<Person - Dormé>\n",
      "<Person - Dooku>\n",
      "<Person - Bail Prestor Organa>\n",
      "<Person - Jango Fett>\n",
      "<Person - Zam Wesell>\n",
      "<Person - Dexter Jettster>\n",
      "<Person - Lama Su>\n",
      "<Person - Taun We>\n",
      "<Person - Jocasta Nu>\n",
      "<Person - R4-P17>\n",
      "<Person - Wat Tambor>\n",
      "<Person - San Hill>\n",
      "<Person - Shaak Ti>\n",
      "<Person - Grievous>\n",
      "<Person - Tarfful>\n",
      "<Person - Raymus Antilles>\n",
      "<Person - Sly Moore>\n",
      "<Person - Tion Medon>\n",
      "<Person - Finn>\n",
      "<Person - Rey>\n",
      "<Person - Poe Dameron>\n",
      "<Person - BB8>\n",
      "<Person - Captain Phasma>\n"
     ]
    }
   ],
   "source": [
    "for person in persons.iter():\n",
    "    print(person)"
   ]
  },
  {
   "cell_type": "code",
   "execution_count": 30,
   "metadata": {
    "collapsed": false
   },
   "outputs": [
    {
     "data": {
      "text/plain": [
       "<Starship - Sentinel-class landing craft>"
      ]
     },
     "execution_count": 30,
     "metadata": {},
     "output_type": "execute_result"
    }
   ],
   "source": [
    "swapi.get_starship(5)"
   ]
  },
  {
   "cell_type": "code",
   "execution_count": 38,
   "metadata": {
    "collapsed": true
   },
   "outputs": [],
   "source": [
    "ship = swapi.get_starship(5)\n",
    "person = swapi.get_person(1)"
   ]
  },
  {
   "cell_type": "code",
   "execution_count": 42,
   "metadata": {
    "collapsed": false,
    "scrolled": true
   },
   "outputs": [
    {
     "data": {
      "text/plain": [
       "['__class__',\n",
       " '__delattr__',\n",
       " '__dict__',\n",
       " '__dir__',\n",
       " '__doc__',\n",
       " '__eq__',\n",
       " '__format__',\n",
       " '__ge__',\n",
       " '__getattribute__',\n",
       " '__gt__',\n",
       " '__hash__',\n",
       " '__init__',\n",
       " '__le__',\n",
       " '__lt__',\n",
       " '__module__',\n",
       " '__ne__',\n",
       " '__new__',\n",
       " '__reduce__',\n",
       " '__reduce_ex__',\n",
       " '__repr__',\n",
       " '__setattr__',\n",
       " '__sizeof__',\n",
       " '__str__',\n",
       " '__subclasshook__',\n",
       " '__weakref__',\n",
       " 'birth_year',\n",
       " 'created',\n",
       " 'edited',\n",
       " 'eye_color',\n",
       " 'films',\n",
       " 'gender',\n",
       " 'get_films',\n",
       " 'get_homeworld',\n",
       " 'get_species',\n",
       " 'get_starships',\n",
       " 'get_vehicles',\n",
       " 'hair_color',\n",
       " 'height',\n",
       " 'homeworld',\n",
       " 'mass',\n",
       " 'name',\n",
       " 'skin_color',\n",
       " 'species',\n",
       " 'starships',\n",
       " 'url',\n",
       " 'vehicles']"
      ]
     },
     "execution_count": 42,
     "metadata": {},
     "output_type": "execute_result"
    }
   ],
   "source": [
    "dir(person)"
   ]
  },
  {
   "cell_type": "code",
   "execution_count": 51,
   "metadata": {
    "collapsed": false
   },
   "outputs": [
    {
     "data": {
      "text/plain": [
       "['http://swapi.co/api/films/6/',\n",
       " 'http://swapi.co/api/films/3/',\n",
       " 'http://swapi.co/api/films/2/',\n",
       " 'http://swapi.co/api/films/1/',\n",
       " 'http://swapi.co/api/films/7/']"
      ]
     },
     "execution_count": 51,
     "metadata": {},
     "output_type": "execute_result"
    }
   ],
   "source": [
    "person.films"
   ]
  },
  {
   "cell_type": "code",
   "execution_count": 34,
   "metadata": {
    "collapsed": false
   },
   "outputs": [
    {
     "name": "stdout",
     "output_type": "stream",
     "text": [
      "<Starship - Sentinel-class landing craft>\n",
      "<Starship - Death Star>\n",
      "<Starship - Millennium Falcon>\n",
      "<Starship - Y-wing>\n",
      "<Starship - X-wing>\n",
      "<Starship - TIE Advanced x1>\n",
      "<Starship - Executor>\n",
      "<Starship - Slave 1>\n",
      "<Starship - Imperial shuttle>\n",
      "<Starship - EF76 Nebulon-B escort frigate>\n",
      "<Starship - Calamari Cruiser>\n",
      "<Starship - A-wing>\n",
      "<Starship - B-wing>\n",
      "<Starship - Republic Cruiser>\n",
      "<Starship - Naboo fighter>\n",
      "<Starship - Naboo Royal Starship>\n",
      "<Starship - Scimitar>\n",
      "<Starship - J-type diplomatic barge>\n",
      "<Starship - AA-9 Coruscant freighter>\n",
      "<Starship - Jedi starfighter>\n",
      "<Starship - H-type Nubian yacht>\n",
      "<Starship - Star Destroyer>\n",
      "<Starship - Trade Federation cruiser>\n",
      "<Starship - Theta-class T-2c shuttle>\n",
      "<Starship - T-70 X-wing fighter>\n",
      "<Starship - Rebel transport>\n",
      "<Starship - Droid control ship>\n",
      "<Starship - Republic Assault ship>\n",
      "<Starship - Solar Sailer>\n",
      "<Starship - Republic attack cruiser>\n",
      "<Starship - Naboo star skiff>\n",
      "<Starship - Jedi Interceptor>\n",
      "<Starship - arc-170>\n",
      "<Starship - Banking clan frigte>\n",
      "<Starship - Belbullab-22 starfighter>\n",
      "<Starship - V-wing>\n",
      "<Starship - CR90 corvette>\n"
     ]
    }
   ],
   "source": [
    "starships = swapi.get_all('starships')\n",
    "for starship in starships.iter():\n",
    "    print(starship)"
   ]
  },
  {
   "cell_type": "code",
   "execution_count": 10,
   "metadata": {
    "collapsed": false
   },
   "outputs": [],
   "source": [
    "planets = swapi.get_all('planets')"
   ]
  },
  {
   "cell_type": "code",
   "execution_count": 11,
   "metadata": {
    "collapsed": false,
    "scrolled": true
   },
   "outputs": [
    {
     "name": "stdout",
     "output_type": "stream",
     "text": [
      "<PlanetQuerySet - 61>\n"
     ]
    }
   ],
   "source": [
    "print(planets)"
   ]
  },
  {
   "cell_type": "code",
   "execution_count": 12,
   "metadata": {
    "collapsed": false
   },
   "outputs": [
    {
     "name": "stdout",
     "output_type": "stream",
     "text": [
      "<Planet - Polis Massa>\n",
      "<Planet - Cato Neimoidia>\n",
      "<Planet - Stewjon>\n",
      "<Planet - unknown>\n",
      "<Planet - Trandosha>\n",
      "<Planet - Socorro>\n",
      "<Planet - Mygeeto>\n",
      "<Planet - Haruun Kal>\n",
      "<Planet - Yavin IV>\n",
      "<Planet - Tatooine>\n",
      "<Planet - Dathomir>\n",
      "<Planet - Ryloth>\n",
      "<Planet - Corellia>\n",
      "<Planet - Mon Cala>\n",
      "<Planet - Geonosis>\n",
      "<Planet - Bespin>\n",
      "<Planet - Naboo>\n",
      "<Planet - Nal Hutta>\n",
      "<Planet - Tund>\n",
      "<Planet - Coruscant>\n",
      "<Planet - Alderaan>\n",
      "<Planet - Kashyyyk>\n",
      "<Planet - Sullust>\n",
      "<Planet - Utapau>\n",
      "<Planet - Dorin>\n",
      "<Planet - Eriadu>\n",
      "<Planet - Chandrila>\n",
      "<Planet - Muunilinst>\n",
      "<Planet - Kalee>\n",
      "<Planet - Ord Mantell>\n",
      "<Planet - Vulpter>\n",
      "<Planet - Saleucami>\n",
      "<Planet - Glee Anselm>\n",
      "<Planet - Malastare>\n",
      "<Planet - Kamino>\n",
      "<Planet - Mustafar>\n",
      "<Planet - Endor>\n",
      "<Planet - Bestine IV>\n",
      "<Planet - Hoth>\n",
      "<Planet - Rodia>\n",
      "<Planet - Toydaria>\n",
      "<Planet - Dagobah>\n",
      "<Planet - Felucia>\n",
      "<Planet - Dantooine>\n",
      "<Planet - Aleen Minor>\n",
      "<Planet - Troiken>\n",
      "<Planet - Cerea>\n",
      "<Planet - Iridonia>\n",
      "<Planet - Tholoth>\n",
      "<Planet - Iktotch>\n",
      "<Planet - Quermia>\n",
      "<Planet - Champala>\n",
      "<Planet - Mirial>\n",
      "<Planet - Serenno>\n",
      "<Planet - Concord Dawn>\n",
      "<Planet - Zolan>\n",
      "<Planet - Ojom>\n",
      "<Planet - Skako>\n",
      "<Planet - Shili>\n",
      "<Planet - Umbara>\n",
      "<Planet - Jakku>\n"
     ]
    }
   ],
   "source": [
    "for planet in planets.order_by('diameter'):\n",
    "    print(planet)"
   ]
  },
  {
   "cell_type": "code",
   "execution_count": 13,
   "metadata": {
    "collapsed": false
   },
   "outputs": [
    {
     "data": {
      "text/plain": [
       "<generator object BaseQuerySet.iter at 0x0000000004B97830>"
      ]
     },
     "execution_count": 13,
     "metadata": {},
     "output_type": "execute_result"
    }
   ],
   "source": [
    "planets.iter()"
   ]
  },
  {
   "cell_type": "code",
   "execution_count": 14,
   "metadata": {
    "collapsed": false
   },
   "outputs": [
    {
     "data": {
      "text/plain": [
       "['FILMS',\n",
       " 'PEOPLE',\n",
       " 'PLANETS',\n",
       " 'SPECIES',\n",
       " 'STARSHIPS',\n",
       " 'VEHICLES',\n",
       " '__author__',\n",
       " '__builtins__',\n",
       " '__cached__',\n",
       " '__doc__',\n",
       " '__email__',\n",
       " '__file__',\n",
       " '__loader__',\n",
       " '__name__',\n",
       " '__package__',\n",
       " '__path__',\n",
       " '__spec__',\n",
       " '__version__',\n",
       " 'exceptions',\n",
       " 'get_all',\n",
       " 'get_film',\n",
       " 'get_person',\n",
       " 'get_planet',\n",
       " 'get_species',\n",
       " 'get_starship',\n",
       " 'get_vehicle',\n",
       " 'models',\n",
       " 'settings',\n",
       " 'swapi',\n",
       " 'utils']"
      ]
     },
     "execution_count": 14,
     "metadata": {},
     "output_type": "execute_result"
    }
   ],
   "source": [
    "dir(swapi)"
   ]
  },
  {
   "cell_type": "code",
   "execution_count": 15,
   "metadata": {
    "collapsed": false
   },
   "outputs": [
    {
     "name": "stdout",
     "output_type": "stream",
     "text": [
      "<Person - Luke Skywalker>\n",
      "<Person - C-3PO>\n",
      "<Person - R2-D2>\n",
      "<Person - Darth Vader>\n",
      "<Person - Leia Organa>\n",
      "<Person - Owen Lars>\n",
      "<Person - Beru Whitesun lars>\n",
      "<Person - Obi-Wan Kenobi>\n",
      "<Person - Anakin Skywalker>\n",
      "<Person - Wilhuff Tarkin>\n",
      "<Person - Chewbacca>\n",
      "<Person - Yoda>\n",
      "<Person - Palpatine>\n",
      "<Person - Nute Gunray>\n",
      "<Person - Padmé Amidala>\n",
      "<Person - Ayla Secura>\n",
      "<Person - Mace Windu>\n",
      "<Person - Ki-Adi-Mundi>\n",
      "<Person - Kit Fisto>\n",
      "<Person - Eeth Koth>\n",
      "<Person - Adi Gallia>\n",
      "<Person - Saesee Tiin>\n",
      "<Person - Plo Koon>\n",
      "<Person - Poggle the Lesser>\n",
      "<Person - Luminara Unduli>\n",
      "<Person - Dooku>\n",
      "<Person - Bail Prestor Organa>\n",
      "<Person - R4-P17>\n",
      "<Person - Shaak Ti>\n",
      "<Person - Grievous>\n",
      "<Person - Tarfful>\n",
      "<Person - Raymus Antilles>\n",
      "<Person - Sly Moore>\n",
      "<Person - Tion Medon>\n"
     ]
    }
   ],
   "source": [
    "characters = swapi.get_film(6).get_characters()\n",
    "for character in characters.iter():\n",
    "    print(character)"
   ]
  },
  {
   "cell_type": "code",
   "execution_count": 24,
   "metadata": {
    "collapsed": false
   },
   "outputs": [
    {
     "name": "stdout",
     "output_type": "stream",
     "text": [
      "<Planet - Jakku>\n"
     ]
    }
   ],
   "source": [
    "planets = swapi.get_film(7).get_planets()\n",
    "for planet in planets.iter():\n",
    "    print(planet)"
   ]
  },
  {
   "cell_type": "code",
   "execution_count": 16,
   "metadata": {
    "collapsed": false,
    "scrolled": true
   },
   "outputs": [
    {
     "name": "stdout",
     "output_type": "stream",
     "text": [
      "<Planet - Alderaan>\n",
      "<Planet - Dagobah>\n",
      "<Planet - Naboo>\n",
      "<Planet - Coruscant>\n",
      "<Planet - Utapau>\n",
      "<Planet - Mustafar>\n",
      "<Planet - Kashyyyk>\n",
      "<Planet - Polis Massa>\n",
      "<Planet - Mygeeto>\n",
      "<Planet - Felucia>\n",
      "<Planet - Cato Neimoidia>\n",
      "<Planet - Saleucami>\n",
      "<Planet - Tatooine>\n"
     ]
    }
   ],
   "source": [
    "planets = swapi.get_film(6).get_planets()\n",
    "for planet in planets.iter():\n",
    "    print(planet)"
   ]
  },
  {
   "cell_type": "code",
   "execution_count": 17,
   "metadata": {
    "collapsed": false,
    "scrolled": true
   },
   "outputs": [
    {
     "name": "stdout",
     "output_type": "stream",
     "text": [
      "<Planet - Naboo>\n",
      "<Planet - Coruscant>\n",
      "<Planet - Kamino>\n",
      "<Planet - Geonosis>\n",
      "<Planet - Tatooine>\n"
     ]
    }
   ],
   "source": [
    "planets = swapi.get_film(5).get_planets()\n",
    "for planet in planets.iter():\n",
    "    print(planet)"
   ]
  },
  {
   "cell_type": "code",
   "execution_count": 18,
   "metadata": {
    "collapsed": false,
    "scrolled": true
   },
   "outputs": [
    {
     "name": "stdout",
     "output_type": "stream",
     "text": [
      "<Planet - Naboo>\n",
      "<Planet - Coruscant>\n",
      "<Planet - Tatooine>\n"
     ]
    }
   ],
   "source": [
    "planets = swapi.get_film(4).get_planets()\n",
    "for planet in planets.iter():\n",
    "    print(planet)"
   ]
  },
  {
   "cell_type": "code",
   "execution_count": 19,
   "metadata": {
    "collapsed": false
   },
   "outputs": [
    {
     "name": "stdout",
     "output_type": "stream",
     "text": [
      "<Planet - Dagobah>\n",
      "<Planet - Endor>\n",
      "<Planet - Naboo>\n",
      "<Planet - Coruscant>\n",
      "<Planet - Tatooine>\n"
     ]
    }
   ],
   "source": [
    "planets = swapi.get_film(3).get_planets()\n",
    "for planet in planets.iter():\n",
    "    print(planet)"
   ]
  },
  {
   "cell_type": "code",
   "execution_count": 23,
   "metadata": {
    "collapsed": false
   },
   "outputs": [
    {
     "name": "stdout",
     "output_type": "stream",
     "text": [
      "<Planet - Hoth>\n",
      "<Planet - Dagobah>\n",
      "<Planet - Bespin>\n",
      "<Planet - Ord Mantell>\n"
     ]
    }
   ],
   "source": [
    "planets = swapi.get_film(2).get_planets()\n",
    "for planet in planets.iter():\n",
    "    print(planet)"
   ]
  },
  {
   "cell_type": "code",
   "execution_count": 20,
   "metadata": {
    "collapsed": false
   },
   "outputs": [
    {
     "name": "stdout",
     "output_type": "stream",
     "text": [
      "<Planet - Alderaan>\n",
      "<Planet - Yavin IV>\n",
      "<Planet - Tatooine>\n"
     ]
    }
   ],
   "source": [
    "planets = swapi.get_film(1).get_planets()\n",
    "for planet in planets.iter():\n",
    "    print(planet)"
   ]
  },
  {
   "cell_type": "markdown",
   "metadata": {},
   "source": [
    "## 将所有星球按大小排列："
   ]
  },
  {
   "cell_type": "code",
   "execution_count": 21,
   "metadata": {
    "collapsed": false
   },
   "outputs": [
    {
     "name": "stdout",
     "output_type": "stream",
     "text": [
      "Polis Massa\n",
      "Cato Neimoidia\n",
      "Stewjon\n",
      "unknown\n",
      "Trandosha\n",
      "Socorro\n",
      "Mygeeto\n",
      "Haruun Kal\n",
      "Yavin IV\n",
      "Tatooine\n",
      "Dathomir\n",
      "Ryloth\n",
      "Corellia\n",
      "Mon Cala\n",
      "Geonosis\n",
      "Bespin\n",
      "Naboo\n",
      "Nal Hutta\n",
      "Tund\n",
      "Coruscant\n",
      "Alderaan\n",
      "Kashyyyk\n",
      "Sullust\n",
      "Utapau\n",
      "Dorin\n",
      "Eriadu\n",
      "Chandrila\n",
      "Muunilinst\n",
      "Kalee\n",
      "Ord Mantell\n",
      "Vulpter\n",
      "Saleucami\n",
      "Glee Anselm\n",
      "Malastare\n",
      "Kamino\n",
      "Mustafar\n",
      "Endor\n",
      "Bestine IV\n",
      "Hoth\n",
      "Rodia\n",
      "Toydaria\n",
      "Dagobah\n",
      "Felucia\n",
      "Dantooine\n",
      "Aleen Minor\n",
      "Troiken\n",
      "Cerea\n",
      "Iridonia\n",
      "Tholoth\n",
      "Iktotch\n",
      "Quermia\n",
      "Champala\n",
      "Mirial\n",
      "Serenno\n",
      "Concord Dawn\n",
      "Zolan\n",
      "Ojom\n",
      "Skako\n",
      "Shili\n",
      "Umbara\n",
      "Jakku\n"
     ]
    }
   ],
   "source": [
    "import swapi\n",
    "for planet in swapi.get_all(\"planets\").order_by(\"diameter\"):\n",
    "    print(planet.name)    "
   ]
  },
  {
   "cell_type": "markdown",
   "metadata": {},
   "source": [
    "## 查看哪些人开过1艘以上的飞船："
   ]
  },
  {
   "cell_type": "code",
   "execution_count": 22,
   "metadata": {
    "collapsed": false
   },
   "outputs": [
    {
     "name": "stdout",
     "output_type": "stream",
     "text": [
      "Luke Skywalker\n",
      "Obi-Wan Kenobi\n",
      "Anakin Skywalker\n",
      "Chewbacca\n",
      "Han Solo\n",
      "Padmé Amidala\n"
     ]
    }
   ],
   "source": [
    "import swapi\n",
    "for people in swapi.get_all(\"people\").iter():\n",
    "    if len(people.starships) > 1:\n",
    "        print(people.name)"
   ]
  },
  {
   "cell_type": "markdown",
   "metadata": {},
   "source": [
    "## 检索Jar Jar Binks是否在电影中出现："
   ]
  },
  {
   "cell_type": "code",
   "execution_count": null,
   "metadata": {
    "collapsed": true
   },
   "outputs": [],
   "source": [
    "import swapi\n",
    "pm = swapi.get_film(4)\n",
    "jj = swapi.get_person(36)\n",
    "for c in pm.get_characters().iter():\n",
    "    if c.name == jj.name:\n",
    "        print(\"Why George, why.\")"
   ]
  }
 ],
 "metadata": {
  "kernelspec": {
   "display_name": "Python 3",
   "language": "python",
   "name": "python3"
  },
  "language_info": {
   "codemirror_mode": {
    "name": "ipython",
    "version": 3
   },
   "file_extension": ".py",
   "mimetype": "text/x-python",
   "name": "python",
   "nbconvert_exporter": "python",
   "pygments_lexer": "ipython3",
   "version": "3.5.1"
  }
 },
 "nbformat": 4,
 "nbformat_minor": 0
}
